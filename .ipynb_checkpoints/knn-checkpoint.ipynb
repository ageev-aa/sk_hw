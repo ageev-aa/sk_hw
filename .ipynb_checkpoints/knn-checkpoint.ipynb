{
 "cells": [
  {
   "cell_type": "markdown",
   "metadata": {},
   "source": [
    "Пусть задана обучающая выборка $\\{(x_1, y_1), ... , (x_m, y_m)\\}$. \n",
    "И пусть на множестве объектов задана функция расстояния $\\rho (x_1, x_2)$.\n",
    "Для произвольного объекта $u$ рассмотрим $x_i$ - $i$-й относительно метрики $\\rho$ ближайший объект из обучающей выборки.\n",
    "\n",
    "Сам метод описывается формулой: $a(u) = argmax_{y \\in Y} \\Sigma_{i=1}^m I[y=y(x_{i,u})]\\omega (i,u)$, \n",
    "\n",
    "где $x_{i,u}$ - $i$-й сосед объекта $u$, $\\omega (i,u)$ - весовая функция, которая оценивает степень важности $i$-го соседа в классификации объекта $u$. \n",
    "\n",
    "В качестве вектора весов $\\omega$ будем рассматривать индикатор: $\\omega (i,u) = I[i\\le k]$ (то есть берем только $k$ ближайших соседей). Тогда объект $u$ будет принадлежать классу, который чаще всего встречается у $k$ ближайших соседей объекта $u$.\n",
    "\n",
    "\n",
    "Сгенерируем 1797 рукописных цифр (которые задаются вектором из 64 чисел) и реализуем метод KNN для определения, к какому классу относится цифра (всего получается 10 классов)."
   ]
  },
  {
   "cell_type": "code",
   "execution_count": 135,
   "metadata": {},
   "outputs": [],
   "source": [
    "import numpy as np\n",
    "import matplotlib.pyplot as plt\n",
    "from sklearn.datasets import load_digits\n",
    "from sklearn.model_selection import train_test_split\n",
    "\n",
    "np.random.seed(100)"
   ]
  },
  {
   "cell_type": "code",
   "execution_count": 136,
   "metadata": {},
   "outputs": [
    {
     "name": "stdout",
     "output_type": "stream",
     "text": [
      "<class 'sklearn.utils.Bunch'>\n"
     ]
    },
    {
     "data": {
      "image/png": "[encoded data removed]",
      "text/plain": [
       "<Figure size 360x288 with 1 Axes>"
      ]
     },
     "metadata": {
      "needs_background": "light"
     },
     "output_type": "display_data"
    },
    {
     "name": "stdout",
     "output_type": "stream",
     "text": [
      "2\n"
     ]
    }
   ],
   "source": [
    "data = load_digits() #генерируем 1797 рукописных цифр\n",
    "print(type(data))\n",
    "X, y = data.data, data.target # каждая цифра задается массивом из 8*8=64 чисел\n",
    "\n",
    "X_train, X_test, y_train, y_test = train_test_split(X, y, test_size=0.25)\n",
    "\n",
    "# пример\n",
    "fig = plt.figure(figsize=(5,4))\n",
    "plt.imshow(X[2].reshape((8,8)), cmap='gray')\n",
    "plt.show()\n",
    "print(y[2])"
   ]
  },
  {
   "cell_type": "code",
   "execution_count": 137,
   "metadata": {},
   "outputs": [],
   "source": [
    "class KNN():\n",
    "    def __init__(self):\n",
    "        pass\n",
    "\n",
    "    def fit(self, X, y):\n",
    "        self.data = X\n",
    "        self.targets = y\n",
    "\n",
    "    def euclidean_distance(self, X): \n",
    "        # если цифра одна\n",
    "        if X.ndim == 1:\n",
    "            l2 = np.sqrt(np.sum((self.data - X)**2, axis=1))\n",
    "\n",
    "        # если несколько\n",
    "        if X.ndim == 2:\n",
    "            n_samples, _ = X.shape\n",
    "            l2 = [np.sqrt(np.sum((self.data - X[i])**2, axis=1)) for i in range(n_samples)]\n",
    "\n",
    "        return np.array(l2)\n",
    "\n",
    "    def predict(self, X, k=1):\n",
    "\n",
    "        # рассчитываем расстояния до элементов обучающей выборки\n",
    "        dists = self.euclidean_distance(X)\n",
    "\n",
    "        # находим k ближайших соседей и их классы\n",
    "        if X.ndim == 1:\n",
    "            if k == 1:\n",
    "                nn = np.argmin(dists)\n",
    "                return self.targets[nn]\n",
    "            else:\n",
    "                knn = np.argsort(dists)[:k] # находим k ближайших соседей\n",
    "                y_knn = self.targets[knn]\n",
    "                max_vote = max(y_knn, key=list(y_knn).count) # класс самого часто встречающегося объекта\n",
    "                return max_vote\n",
    "\n",
    "        if X.ndim == 2:\n",
    "            knn = np.argsort(dists)[:, :k]\n",
    "            y_knn = self.targets[knn]\n",
    "            if k == 1:\n",
    "                return y_knn.T\n",
    "            else:\n",
    "                n_samples, _ = X.shape\n",
    "                max_votes = [max(y_knn[i], key=list(y_knn[i]).count) for i in range(n_samples)]\n",
    "                return max_votes"
   ]
  },
  {
   "cell_type": "code",
   "execution_count": 138,
   "metadata": {},
   "outputs": [],
   "source": [
    "knn = KNN()\n",
    "knn.fit(X_train, y_train)"
   ]
  },
  {
   "cell_type": "code",
   "execution_count": 139,
   "metadata": {},
   "outputs": [
    {
     "name": "stdout",
     "output_type": "stream",
     "text": [
      "Тест при k=2\n",
      "Результат алгоритма: 2\n",
      "Реальное значение: 2\n"
     ]
    },
    {
     "data": {
      "image/png": "[encoded data removed]",
      "text/plain": [
       "<Figure size 360x288 with 1 Axes>"
      ]
     },
     "metadata": {
      "needs_background": "light"
     },
     "output_type": "display_data"
    },
    {
     "name": "stdout",
     "output_type": "stream",
     "text": [
      "Тест 5 цифр при k=1\n",
      "Результат алгоритма : [[9 0 2 4 5]]\n",
      "Реальные значения: [9 0 2 4 5]\n"
     ]
    },
    {
     "data": {
      "image/png": "[encoded data removed]",
      "text/plain": [
       "<Figure size 720x576 with 5 Axes>"
      ]
     },
     "metadata": {
      "needs_background": "light"
     },
     "output_type": "display_data"
    }
   ],
   "source": [
    "print(\"Тест при k=2\")\n",
    "print(f\"Результат алгоритма: {knn.predict(X_test[3], k=2)}\")\n",
    "print(f\"Реальное значение: {y_test[3]}\")\n",
    "fig = plt.figure(figsize=(5,4))\n",
    "plt.imshow(X_test[3].reshape((8,8)), cmap='gray')\n",
    "plt.show()\n",
    "\n",
    "print(\"Тест 5 цифр при k=1\")\n",
    "print(f\"Результат алгоритма : {knn.predict(X_test[1:6], k=1)}\")\n",
    "print(f\"Реальные значения: {y_test[1:6]}\")\n",
    "\n",
    "fig = plt.figure(figsize=(10,8))\n",
    "for i in range(1,6):\n",
    "    ax = fig.add_subplot(2, 5, i)\n",
    "    plt.imshow(X_test[i].reshape((8,8)), cmap='gray')"
   ]
  },
  {
   "cell_type": "markdown",
   "metadata": {},
   "source": [
    "Посмотрим на точность классификации при разных k"
   ]
  },
  {
   "cell_type": "code",
   "execution_count": 140,
   "metadata": {},
   "outputs": [],
   "source": [
    "#data_test = load_digits()\n",
    "#X_data_test, y_data_test = data.data, data.target\n",
    "accuracy = []\n",
    "for i in range (20):\n",
    "    k = i+1\n",
    "    y_p_test = knn.predict(X_test, k=k)\n",
    "    if (k==1):\n",
    "        test_acc= np.sum(y_p_test[0] == y_test)/len(y_p_test[0]) * 100\n",
    "    else:\n",
    "        test_acc= np.sum(y_p_test == y_test)/len(y_p_test) * 100\n",
    "    accuracy.append(test_acc)\n",
    "    #print(f\"Точность при k = {k} : {format(test_acc)}\") \n"
   ]
  },
  {
   "cell_type": "code",
   "execution_count": 141,
   "metadata": {},
   "outputs": [
    {
     "data": {
      "text/plain": [
       "Text(0,0.5,'Точность')"
      ]
     },
     "execution_count": 141,
     "metadata": {},
     "output_type": "execute_result"
    },
    {
     "data": {
      "image/png": "[encoded data removed]",
      "text/plain": [
       "<Figure size 720x432 with 1 Axes>"
      ]
     },
     "metadata": {
      "needs_background": "light"
     },
     "output_type": "display_data"
    }
   ],
   "source": [
    "plt.figure(figsize=(10, 6))\n",
    "plt.plot(range(1,len(accuracy)+1), accuracy)\n",
    "\n",
    "plt.xlabel('Кол-во шагов')\n",
    "plt.ylabel('Точность')"
   ]
  },
  {
   "cell_type": "markdown",
   "metadata": {},
   "source": [
    "Точность убывает с ростом k."
   ]
  },
  {
   "cell_type": "markdown",
   "metadata": {},
   "source": [
    "Поменяем процент тестовой выборки"
   ]
  },
  {
   "cell_type": "code",
   "execution_count": 142,
   "metadata": {},
   "outputs": [
    {
     "data": {
      "text/plain": [
       "<matplotlib.legend.Legend at 0x1a1d89e3c8>"
      ]
     },
     "execution_count": 142,
     "metadata": {},
     "output_type": "execute_result"
    },
    {
     "data": {
      "image/png": "[encoded data removed]",
      "text/plain": [
       "<Figure size 720x432 with 1 Axes>"
      ]
     },
     "metadata": {
      "needs_background": "light"
     },
     "output_type": "display_data"
    }
   ],
   "source": [
    "# test_size = 0.5\n",
    "np.random.seed(10)\n",
    "X_train2, X_test2, y_train2, y_test2 = train_test_split(X, y, test_size=0.5)\n",
    "knn.fit(X_train2, y_train2)\n",
    "accuracy2 = []\n",
    "for i in range (20):\n",
    "    k = i+1\n",
    "    y_p_test2 = knn.predict(X_test2, k=k)\n",
    "    if (k==1):\n",
    "        test_acc= np.sum(y_p_test2[0] == y_test2)/len(y_p_test2[0]) * 100\n",
    "    else:\n",
    "        test_acc= np.sum(y_p_test2 == y_test2)/len(y_p_test2) * 100\n",
    "    accuracy2.append(test_acc)\n",
    "    \n",
    "# test_size = 0.75\n",
    "np.random.seed(50)\n",
    "X_train3, X_test3, y_train3, y_test3 = train_test_split(X, y, test_size=0.75)\n",
    "knn.fit(X_train3, y_train3)\n",
    "accuracy3 = []\n",
    "for i in range (20):\n",
    "    k = i+1\n",
    "    y_p_test3 = knn.predict(X_test3, k=k)\n",
    "    if (k==1):\n",
    "        test_acc= np.sum(y_p_test3[0] == y_test3)/len(y_p_test3[0]) * 100\n",
    "    else:\n",
    "        test_acc= np.sum(y_p_test3 == y_test3)/len(y_p_test3) * 100\n",
    "    accuracy3.append(test_acc)\n",
    "    \n",
    "    \n",
    "plt.figure(figsize=(10, 6))\n",
    "plt.plot(range(1,len(accuracy)+1), accuracy, label='0.25')\n",
    "\n",
    "plt.plot(range(1,len(accuracy2)+1), accuracy2, label='0.5')\n",
    "\n",
    "plt.plot(range(1,len(accuracy3)+1), accuracy3, label='0.75')\n",
    "\n",
    "plt.xlabel('Кол-во шагов')\n",
    "plt.ylabel('Точность')\n",
    "plt.legend(bbox_to_anchor=(1.01, 1), loc=2)"
   ]
  },
  {
   "cell_type": "markdown",
   "metadata": {},
   "source": [
    "Видно, что чем большая доля тестовой выборки (и, соответственно, меньше обучающая выборка), тем хуже точность при одинаковом k."
   ]
  },
  {
   "cell_type": "code",
   "execution_count": null,
   "metadata": {},
   "outputs": [],
   "source": []
  }
 ],
 "metadata": {
  "kernelspec": {
   "display_name": "Python 3",
   "language": "python",
   "name": "python3"
  },
  "language_info": {
   "codemirror_mode": {
    "name": "ipython",
    "version": 3
   },
   "file_extension": ".py",
   "mimetype": "text/x-python",
   "name": "python",
   "nbconvert_exporter": "python",
   "pygments_lexer": "ipython3",
   "version": "3.7.0"
  }
 },
 "nbformat": 4,
 "nbformat_minor": 2
}
