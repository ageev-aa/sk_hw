{
 "cells": [
  {
   "cell_type": "markdown",
   "metadata": {},
   "source": [
    "Сгенерируем 1797 рукописных цифр (которые задаются вектором из 64 чисел) и реализуем метод KNN для определения, к какому классу относится цифра (всего получается 10 классов)."
   ]
  },
  {
   "cell_type": "code",
   "execution_count": 28,
   "metadata": {},
   "outputs": [],
   "source": [
    "import numpy as np\n",
    "import matplotlib.pyplot as plt\n",
    "from sklearn.datasets import load_digits\n",
    "from sklearn.model_selection import train_test_split\n"
   ]
  },
  {
   "cell_type": "code",
   "execution_count": 66,
   "metadata": {},
   "outputs": [
    {
     "name": "stdout",
     "output_type": "stream",
     "text": [
      "<class 'sklearn.utils.Bunch'>\n"
     ]
    },
    {
     "data": {
      "image/png": "[encoded data removed]",
      "text/plain": [
       "<Figure size 360x288 with 1 Axes>"
      ]
     },
     "metadata": {
      "needs_background": "light"
     },
     "output_type": "display_data"
    },
    {
     "name": "stdout",
     "output_type": "stream",
     "text": [
      "2\n"
     ]
    }
   ],
   "source": [
    "data = load_digits() #генерируем 1797 рукописных цифр\n",
    "print(type(data))\n",
    "X, y = data.data, data.target # каждая цифра задается массивом из 8*8=64 чисел\n",
    "\n",
    "X_train, X_test, y_train, y_test = train_test_split(X, y)\n",
    "\n",
    "# пример\n",
    "fig = plt.figure(figsize=(5,4))\n",
    "plt.imshow(X[2].reshape((8,8)), cmap='gray')\n",
    "plt.show()\n",
    "print(y[2])"
   ]
  },
  {
   "cell_type": "code",
   "execution_count": 31,
   "metadata": {},
   "outputs": [],
   "source": [
    "class KNN():\n",
    "    def __init__(self):\n",
    "        pass\n",
    "\n",
    "    def fit(self, X, y):\n",
    "        self.data = X\n",
    "        self.targets = y\n",
    "\n",
    "    def euclidean_distance(self, X): \n",
    "        # если цифра одна\n",
    "        if X.ndim == 1:\n",
    "            l2 = np.sqrt(np.sum((self.data - X)**2, axis=1))\n",
    "\n",
    "        # если несколько\n",
    "        if X.ndim == 2:\n",
    "            n_samples, _ = X.shape\n",
    "            l2 = [np.sqrt(np.sum((self.data - X[i])**2, axis=1)) for i in range(n_samples)]\n",
    "\n",
    "        return np.array(l2)\n",
    "\n",
    "    def predict(self, X, k=1):\n",
    "\n",
    "        # рассчитываем расстояния до элементов обучающей выборки\n",
    "        dists = self.euclidean_distance(X)\n",
    "\n",
    "        # находим k ближайших соседей и их классы\n",
    "        if X.ndim == 1:\n",
    "            if k == 1:\n",
    "                nn = np.argmin(dists)\n",
    "                return self.targets[nn]\n",
    "            else:\n",
    "                knn = np.argsort(dists)[:k] # находим k ближайших соседей\n",
    "                y_knn = self.targets[knn]\n",
    "                max_vote = max(y_knn, key=list(y_knn).count) # класс самого часто встречающегося объекта\n",
    "                return max_vote\n",
    "\n",
    "        if X.ndim == 2:\n",
    "            knn = np.argsort(dists)[:, :k]\n",
    "            y_knn = self.targets[knn]\n",
    "            if k == 1:\n",
    "                return y_knn.T\n",
    "            else:\n",
    "                n_samples, _ = X.shape\n",
    "                max_votes = [max(y_knn[i], key=list(y_knn[i]).count) for i in range(n_samples)]\n",
    "                return max_votes"
   ]
  },
  {
   "cell_type": "code",
   "execution_count": 32,
   "metadata": {},
   "outputs": [],
   "source": [
    "knn = KNN()\n",
    "knn.fit(X_train, y_train)"
   ]
  },
  {
   "cell_type": "code",
   "execution_count": 61,
   "metadata": {},
   "outputs": [
    {
     "name": "stdout",
     "output_type": "stream",
     "text": [
      "Тест при k=2\n",
      "Результат алгоритма: 6\n",
      "Реальное значение: 6\n"
     ]
    },
    {
     "data": {
      "image/png": "[encoded data removed]",
      "text/plain": [
       "<Figure size 360x288 with 1 Axes>"
      ]
     },
     "metadata": {
      "needs_background": "light"
     },
     "output_type": "display_data"
    },
    {
     "name": "stdout",
     "output_type": "stream",
     "text": [
      "Тест 5 цифр при k=1\n",
      "Результат алгоритма : [[8 2 6 7 2]]\n",
      "Реальные значения: [8 2 6 7 2]\n"
     ]
    },
    {
     "data": {
      "image/png": "[encoded data removed]",
      "text/plain": [
       "<Figure size 720x576 with 5 Axes>"
      ]
     },
     "metadata": {
      "needs_background": "light"
     },
     "output_type": "display_data"
    }
   ],
   "source": [
    "print(\"Тест при k=2\")\n",
    "print(f\"Результат алгоритма: {knn.predict(X_test[3], k=2)}\")\n",
    "print(f\"Реальное значение: {y_test[3]}\")\n",
    "fig = plt.figure(figsize=(5,4))\n",
    "plt.imshow(X_test[3].reshape((8,8)), cmap='gray')\n",
    "plt.show()\n",
    "\n",
    "print(\"Тест 5 цифр при k=1\")\n",
    "print(f\"Результат алгоритма : {knn.predict(X_test[1:6], k=1)}\")\n",
    "print(f\"Реальные значения: {y_test[1:6]}\")\n",
    "\n",
    "fig = plt.figure(figsize=(10,8))\n",
    "for i in range(1,6):\n",
    "    ax = fig.add_subplot(2, 5, i)\n",
    "    plt.imshow(X_test[i].reshape((8,8)), cmap='gray')"
   ]
  },
  {
   "cell_type": "markdown",
   "metadata": {},
   "source": [
    "Посмотрим на точность классификации при разных k"
   ]
  },
  {
   "cell_type": "code",
   "execution_count": 46,
   "metadata": {},
   "outputs": [
    {
     "name": "stdout",
     "output_type": "stream",
     "text": [
      "Точность при k = 1 : 99.8330550918197\n",
      "Точность при k = 2 : 99.8330550918197\n",
      "Точность при k = 3 : 99.10962715637173\n",
      "Точность при k = 4 : 99.33222036727881\n",
      "Точность при k = 5 : 98.8313856427379\n",
      "Точность при k = 6 : 99.10962715637173\n",
      "Точность при k = 7 : 98.60879243183082\n",
      "Точность при k = 8 : 98.72008903728437\n",
      "Точность при k = 9 : 98.55314412910407\n",
      "Точность при k = 10 : 98.60879243183082\n",
      "Точность при k = 11 : 98.27490261547022\n",
      "Точность при k = 12 : 98.38619922092377\n",
      "Точность при k = 13 : 98.05230940456316\n",
      "Точность при k = 14 : 98.1636060100167\n",
      "Точность при k = 15 : 98.1636060100167\n",
      "Точность при k = 16 : 98.10795770728993\n",
      "Точность при k = 17 : 98.05230940456316\n",
      "Точность при k = 18 : 97.8297161936561\n",
      "Точность при k = 19 : 97.77406789092933\n",
      "Точность при k = 20 : 97.71841958820256\n"
     ]
    }
   ],
   "source": [
    "data_test = load_digits()\n",
    "X_data_test, y_data_test = data.data, data.target\n",
    "accuracy = []\n",
    "for i in range (20):\n",
    "    k = i+1\n",
    "    y_p_test = knn.predict(X_data_test, k=k)\n",
    "    if (k==1):\n",
    "        test_acc= np.sum(y_p_test[0] == y_data_test)/len(y_p_test[0]) * 100\n",
    "    else:\n",
    "        test_acc= np.sum(y_p_test == y_data_test)/len(y_p_test) * 100\n",
    "    accuracy.append(test_acc)\n",
    "    print(f\"Точность при k = {k} : {format(test_acc)}\") \n"
   ]
  },
  {
   "cell_type": "code",
   "execution_count": 55,
   "metadata": {},
   "outputs": [
    {
     "data": {
      "text/plain": [
       "Text(0,0.5,'Точность')"
      ]
     },
     "execution_count": 55,
     "metadata": {},
     "output_type": "execute_result"
    },
    {
     "data": {
      "image/png": "[encoded data removed]",
      "text/plain": [
       "<Figure size 1440x720 with 1 Axes>"
      ]
     },
     "metadata": {
      "needs_background": "light"
     },
     "output_type": "display_data"
    }
   ],
   "source": [
    "plt.figure(figsize=(20, 10))\n",
    "plt.plot(range(1,len(accuracy)+1), accuracy)\n",
    "\n",
    "plt.xlabel('Кол-во шагов')\n",
    "plt.ylabel('Точность')"
   ]
  },
  {
   "cell_type": "markdown",
   "metadata": {},
   "source": [
    "Точность убывает с ростом k"
   ]
  },
  {
   "cell_type": "code",
   "execution_count": null,
   "metadata": {},
   "outputs": [],
   "source": []
  }
 ],
 "metadata": {
  "kernelspec": {
   "display_name": "Python 3",
   "language": "python",
   "name": "python3"
  },
  "language_info": {
   "codemirror_mode": {
    "name": "ipython",
    "version": 3
   },
   "file_extension": ".py",
   "mimetype": "text/x-python",
   "name": "python",
   "nbconvert_exporter": "python",
   "pygments_lexer": "ipython3",
   "version": "3.7.0"
  }
 },
 "nbformat": 4,
 "nbformat_minor": 2
}
